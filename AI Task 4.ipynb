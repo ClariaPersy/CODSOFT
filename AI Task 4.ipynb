{
 "cells": [
  {
   "cell_type": "code",
   "execution_count": 1,
   "id": "bdb9c680",
   "metadata": {
    "scrolled": true
   },
   "outputs": [
    {
     "name": "stderr",
     "output_type": "stream",
     "text": [
      "C:\\Users\\clari\\anaconda3\\lib\\site-packages\\scipy\\__init__.py:146: UserWarning: A NumPy version >=1.16.5 and <1.23.0 is required for this version of SciPy (detected version 1.26.4\n",
      "  warnings.warn(f\"A NumPy version >={np_minversion} and <{np_maxversion}\"\n"
     ]
    },
    {
     "name": "stdout",
     "output_type": "stream",
     "text": [
      "\n",
      "Simple Movie Recommendation System\n",
      "\n",
      "Enter the Movie Name: Twilight\n",
      "\n",
      "Top Movie Recommendations for 'Twilight' based on User Preferences Using Content-Based Filtering\n",
      "Mean Girls (Average Rating: 5.00)\n",
      "Twilight (Average Rating: 4.00)\n",
      "Little Women (Average Rating: 3.00)\n"
     ]
    }
   ],
   "source": [
    "# 1. IMPORTING LIBRARIES\n",
    "import pandas as pd\n",
    "from sklearn.feature_extraction.text import TfidfVectorizer\n",
    "from sklearn.metrics.pairwise import linear_kernel\n",
    "\n",
    "# 2.1 Sample Movie Data\n",
    "movies_data = {\n",
    "    'MovieID': [1, 2, 3, 4, 5],\n",
    "    'MovieName': ['Avengers', 'Mean Girls', 'Twilight', 'Little Women', 'Legally Blonde'],\n",
    "    'Genre': ['Action', 'Comedy', 'Action', 'Drama', 'Comedy'],\n",
    "    'Description': ['Action-packed movie with explosions and fights.',\n",
    "                        'A funny comedy with lots of laughs and humor.',\n",
    "                        'Thrilling action movie with suspenseful scenes.',\n",
    "                        'A drama with emotional and touching moments.',\n",
    "                        'A funny comedy with lots of laughs and humor.']\n",
    "}\n",
    "\n",
    "# 2.2 Sample Ratings Data\n",
    "ratings_data = {\n",
    "    'UserID': [1, 1, 2, 2, 3],\n",
    "    'MovieID': [1, 2, 3, 4, 5],\n",
    "    'Rating': [5, 4, 3, 2, 4],\n",
    "}\n",
    "\n",
    "movies_df = pd.DataFrame(movies_data)\n",
    "ratings_df = pd.DataFrame(ratings_data)\n",
    "\n",
    "# 3. Merge dataframes to get movie details with ratings\n",
    "movie_ratings = pd.merge(ratings_df, movies_df, on='MovieID')\n",
    "\n",
    "# 4. CONTENT-BASED FILTERING\n",
    "\n",
    "# 4.1 Create a TF-IDF vectorizer to convert genres into numerical features\n",
    "tfidf_vectorizer = TfidfVectorizer(stop_words='english')\n",
    "tfidf_matrix = tfidf_vectorizer.fit_transform(movies_df['Genre'])\n",
    "\n",
    "# 4.2 Compute COSINE-SIMILARITY between movies based on TF-IDF vectors\n",
    "cosine_similarity = linear_kernel(tfidf_matrix, tfidf_matrix)\n",
    "\n",
    "# 4.3 FUNCTION TO GET MOVIE-RECOMMENDATIONS BASED ON RATINGS AND SIMILARITY\n",
    "def get_movie_recommendations(movie_name, rating_threshold=2.0):\n",
    "    # Check if the movie is in the dataset\n",
    "    movie_indices = movies_df.index[movies_df['MovieName'] == movie_name].tolist()\n",
    "    \n",
    "    if not movie_indices:\n",
    "        print(f\"Movie '{movie_name}' not found in the dataset.\")\n",
    "        return None\n",
    "    \n",
    "    # Take the first index if there are multiple occurrences (assuming MovieName is not unique)\n",
    "    movie_index = movie_indices[0]\n",
    "    \n",
    "    # Get movies similar to the selected one based on cosine similarity\n",
    "    similar_movies = list(enumerate(cosine_similarity[movie_index]))\n",
    "    \n",
    "    # Exclude the movie itself\n",
    "    similar_movies = sorted(similar_movies, key=lambda x: x[1], reverse=True)[1:]\n",
    "    \n",
    "    # Get movies with ratings above the threshold\n",
    "    high_rated_similar_movies = [\n",
    "        (movies_df['MovieName'][i], movie_ratings['Rating'][movie_ratings['MovieID'] == i].mean())\n",
    "        for i, _ in similar_movies\n",
    "        if movie_ratings['Rating'][movie_ratings['MovieID'] == i].mean() > rating_threshold\n",
    "    ]\n",
    "    \n",
    "    # Sort movies based on average ratings\n",
    "    high_rated_similar_movies = sorted(high_rated_similar_movies, key=lambda x: x[1], reverse=True)\n",
    "    return high_rated_similar_movies\n",
    "\n",
    "\n",
    "\n",
    "# 5. TAKE INPUT FROM USER\n",
    "print(\"\\nSimple Movie Recommendation System\")\n",
    "\n",
    "movie_name = input(\"\\nEnter the Movie Name: \")\n",
    "recommendations = get_movie_recommendations(movie_name)\n",
    "\n",
    "print(f\"\\nTop Movie Recommendations for '{movie_name}' based on User Preferences Using Content-Based Filtering\")\n",
    "for movie, rating in recommendations:\n",
    "    print(f\"{movie} (Average Rating: {rating:.2f})\")"
   ]
  }
 ],
 "metadata": {
  "kernelspec": {
   "display_name": "Python 3 (ipykernel)",
   "language": "python",
   "name": "python3"
  },
  "language_info": {
   "codemirror_mode": {
    "name": "ipython",
    "version": 3
   },
   "file_extension": ".py",
   "mimetype": "text/x-python",
   "name": "python",
   "nbconvert_exporter": "python",
   "pygments_lexer": "ipython3",
   "version": "3.9.12"
  }
 },
 "nbformat": 4,
 "nbformat_minor": 5
}
